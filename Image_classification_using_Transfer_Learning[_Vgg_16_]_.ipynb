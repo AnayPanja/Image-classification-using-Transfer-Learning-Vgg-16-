{
  "nbformat": 4,
  "nbformat_minor": 0,
  "metadata": {
    "colab": {
      "name": "Image classification using Transfer Learning[ Vgg 16 ] .ipynb",
      "provenance": [],
      "mount_file_id": "1hC9F-HzsdmQe4V42r7JlNCLgnuY4gd11",
      "authorship_tag": "ABX9TyPJOI2r1HF5o+2UNUDpb/1f",
      "include_colab_link": true
    },
    "kernelspec": {
      "name": "python3",
      "display_name": "Python 3"
    },
    "language_info": {
      "name": "python"
    },
    "accelerator": "GPU"
  },
  "cells": [
    {
      "cell_type": "markdown",
      "metadata": {
        "id": "view-in-github",
        "colab_type": "text"
      },
      "source": [
        "<a href=\"https://colab.research.google.com/github/AnayPanja/Image-classification-using-Transfer-Learning-Vgg-16-/blob/main/Image_classification_using_Transfer_Learning%5B_Vgg_16_%5D_.ipynb\" target=\"_parent\"><img src=\"https://colab.research.google.com/assets/colab-badge.svg\" alt=\"Open In Colab\"/></a>"
      ]
    },
    {
      "cell_type": "code",
      "metadata": {
        "id": "P8i1MZ4isZnE"
      },
      "source": [
        "# In this image classification  I use 'Skin Cancer: Malignant vs. Benign' dataset from kaggle"
      ],
      "execution_count": 35,
      "outputs": []
    },
    {
      "cell_type": "code",
      "metadata": {
        "colab": {
          "base_uri": "https://localhost:8080/"
        },
        "id": "gwxXOVf1sfNh",
        "outputId": "03f307ed-c613-4f9b-8730-8b41e8b346ff"
      },
      "source": [
        "from tensorflow.python.client import device_lib\n",
        "print(device_lib.list_local_devices())"
      ],
      "execution_count": 36,
      "outputs": [
        {
          "output_type": "stream",
          "name": "stdout",
          "text": [
            "[name: \"/device:CPU:0\"\n",
            "device_type: \"CPU\"\n",
            "memory_limit: 268435456\n",
            "locality {\n",
            "}\n",
            "incarnation: 15057144749077983141\n",
            "xla_global_id: -1\n",
            ", name: \"/device:GPU:0\"\n",
            "device_type: \"GPU\"\n",
            "memory_limit: 11320098816\n",
            "locality {\n",
            "  bus_id: 1\n",
            "  links {\n",
            "  }\n",
            "}\n",
            "incarnation: 13958353301604093282\n",
            "physical_device_desc: \"device: 0, name: Tesla K80, pci bus id: 0000:00:04.0, compute capability: 3.7\"\n",
            "xla_global_id: 416903419\n",
            "]\n"
          ]
        }
      ]
    },
    {
      "cell_type": "code",
      "metadata": {
        "id": "foeLTAI3sfQY"
      },
      "source": [
        "import tensorflow as tf\n",
        "from keras.layers import Input, Lambda, Dense, Flatten\n",
        "from keras.models import Model\n",
        "from keras.applications.vgg16 import VGG16\n",
        "from keras.applications.vgg16 import preprocess_input\n",
        "from keras.preprocessing import image\n",
        "from keras.preprocessing.image import ImageDataGenerator\n",
        "from keras.models import Sequential\n",
        "import numpy as np\n",
        "from glob import glob\n",
        "import matplotlib.pyplot as plt"
      ],
      "execution_count": 37,
      "outputs": []
    },
    {
      "cell_type": "code",
      "metadata": {
        "id": "bBoayB0WsfTL"
      },
      "source": [
        "IMAGE_SIZE = [224, 224]\n",
        "train_path = '/content/drive/MyDrive/Colab Notebooks/Data Set/DATASET_Skin Cancer Malignant vs. Benign/train'\n",
        "test_path = '/content/drive/MyDrive/Colab Notebooks/Data Set/DATASET_Skin Cancer Malignant vs. Benign/test'"
      ],
      "execution_count": 38,
      "outputs": []
    },
    {
      "cell_type": "code",
      "metadata": {
        "id": "dJ00C0uasfVz"
      },
      "source": [
        "vgg = VGG16(include_top=False,weights='imagenet',input_shape=IMAGE_SIZE + [3])"
      ],
      "execution_count": 39,
      "outputs": []
    },
    {
      "cell_type": "code",
      "metadata": {
        "id": "umjQAz_vsfYh"
      },
      "source": [
        "for layers in vgg.layers:\n",
        "  layers.trainable = False"
      ],
      "execution_count": 40,
      "outputs": []
    },
    {
      "cell_type": "code",
      "metadata": {
        "id": "KpmdTWVE8Hfi"
      },
      "source": [
        "folders = glob('/content/drive/MyDrive/Colab Notebooks/Data Set/DATASET_Skin Cancer Malignant vs. Benign/train/*')\n"
      ],
      "execution_count": 41,
      "outputs": []
    },
    {
      "cell_type": "code",
      "metadata": {
        "colab": {
          "base_uri": "https://localhost:8080/"
        },
        "id": "QdsWSnEa8O_p",
        "outputId": "1d135c67-5c4e-43e5-e8d5-15cb41972f73"
      },
      "source": [
        "print(len(folders))"
      ],
      "execution_count": 42,
      "outputs": [
        {
          "output_type": "stream",
          "name": "stdout",
          "text": [
            "2\n"
          ]
        }
      ]
    },
    {
      "cell_type": "code",
      "metadata": {
        "id": "IVYwWGBjsfbR"
      },
      "source": [
        "x = Flatten()(vgg.output)\n",
        "prediction = Dense(len(folders), activation='softmax')(x)\n",
        "model = Model(inputs=vgg.input, outputs=prediction)"
      ],
      "execution_count": 43,
      "outputs": []
    },
    {
      "cell_type": "code",
      "metadata": {
        "colab": {
          "base_uri": "https://localhost:8080/"
        },
        "id": "IfJRLhfcsfds",
        "outputId": "3a2738b9-25c4-4e9a-f7ea-b1efadb3645c"
      },
      "source": [
        "model.summary()\n"
      ],
      "execution_count": 44,
      "outputs": [
        {
          "output_type": "stream",
          "name": "stdout",
          "text": [
            "Model: \"model_2\"\n",
            "_________________________________________________________________\n",
            " Layer (type)                Output Shape              Param #   \n",
            "=================================================================\n",
            " input_3 (InputLayer)        [(None, 224, 224, 3)]     0         \n",
            "                                                                 \n",
            " block1_conv1 (Conv2D)       (None, 224, 224, 64)      1792      \n",
            "                                                                 \n",
            " block1_conv2 (Conv2D)       (None, 224, 224, 64)      36928     \n",
            "                                                                 \n",
            " block1_pool (MaxPooling2D)  (None, 112, 112, 64)      0         \n",
            "                                                                 \n",
            " block2_conv1 (Conv2D)       (None, 112, 112, 128)     73856     \n",
            "                                                                 \n",
            " block2_conv2 (Conv2D)       (None, 112, 112, 128)     147584    \n",
            "                                                                 \n",
            " block2_pool (MaxPooling2D)  (None, 56, 56, 128)       0         \n",
            "                                                                 \n",
            " block3_conv1 (Conv2D)       (None, 56, 56, 256)       295168    \n",
            "                                                                 \n",
            " block3_conv2 (Conv2D)       (None, 56, 56, 256)       590080    \n",
            "                                                                 \n",
            " block3_conv3 (Conv2D)       (None, 56, 56, 256)       590080    \n",
            "                                                                 \n",
            " block3_pool (MaxPooling2D)  (None, 28, 28, 256)       0         \n",
            "                                                                 \n",
            " block4_conv1 (Conv2D)       (None, 28, 28, 512)       1180160   \n",
            "                                                                 \n",
            " block4_conv2 (Conv2D)       (None, 28, 28, 512)       2359808   \n",
            "                                                                 \n",
            " block4_conv3 (Conv2D)       (None, 28, 28, 512)       2359808   \n",
            "                                                                 \n",
            " block4_pool (MaxPooling2D)  (None, 14, 14, 512)       0         \n",
            "                                                                 \n",
            " block5_conv1 (Conv2D)       (None, 14, 14, 512)       2359808   \n",
            "                                                                 \n",
            " block5_conv2 (Conv2D)       (None, 14, 14, 512)       2359808   \n",
            "                                                                 \n",
            " block5_conv3 (Conv2D)       (None, 14, 14, 512)       2359808   \n",
            "                                                                 \n",
            " block5_pool (MaxPooling2D)  (None, 7, 7, 512)         0         \n",
            "                                                                 \n",
            " flatten_2 (Flatten)         (None, 25088)             0         \n",
            "                                                                 \n",
            " dense_2 (Dense)             (None, 2)                 50178     \n",
            "                                                                 \n",
            "=================================================================\n",
            "Total params: 14,764,866\n",
            "Trainable params: 50,178\n",
            "Non-trainable params: 14,714,688\n",
            "_________________________________________________________________\n"
          ]
        }
      ]
    },
    {
      "cell_type": "code",
      "metadata": {
        "id": "rvgv5fUn8RqZ"
      },
      "source": [
        "\n",
        "model.compile( loss='binary_crossentropy',\n",
        "              optimizer=tf.keras.optimizers.Adam(learning_rate=0.1),\n",
        "              metrics=['accuracy'])"
      ],
      "execution_count": 45,
      "outputs": []
    },
    {
      "cell_type": "code",
      "metadata": {
        "id": "3g0WIeUk8RtK"
      },
      "source": [
        "train_datagen = ImageDataGenerator(\n",
        "    preprocessing_function=preprocess_input,\n",
        "    rotation_range=40,\n",
        "    width_shift_range=0.2,\n",
        "    height_shift_range=0.2,\n",
        "    shear_range=0.2,\n",
        "    zoom_range=0.2,\n",
        "    horizontal_flip=True,\n",
        "    fill_mode='nearest')\n",
        "\n",
        "test_datagen = ImageDataGenerator(\n",
        "    preprocessing_function=preprocess_input,\n",
        "    rotation_range=40,\n",
        "    width_shift_range=0.2,\n",
        "    height_shift_range=0.2,\n",
        "    shear_range=0.2,\n",
        "    zoom_range=0.2,\n",
        "    horizontal_flip=True,\n",
        "    fill_mode='nearest')"
      ],
      "execution_count": 46,
      "outputs": []
    },
    {
      "cell_type": "code",
      "metadata": {
        "colab": {
          "base_uri": "https://localhost:8080/"
        },
        "id": "siwsU7SRsfgD",
        "outputId": "2d5a7217-65f4-40f1-a69c-5fc75bb7c242"
      },
      "source": [
        "train_set = train_datagen.flow_from_directory(train_path,\n",
        "                                                 target_size = (224, 224),\n",
        "                                                 batch_size = 32,\n",
        "                                                 class_mode = 'categorical')\n",
        "\n",
        "test_set = test_datagen.flow_from_directory(test_path,\n",
        "                                            target_size = (224, 224),\n",
        "                                            batch_size = 32,\n",
        "                                            class_mode = 'categorical')"
      ],
      "execution_count": 47,
      "outputs": [
        {
          "output_type": "stream",
          "name": "stdout",
          "text": [
            "Found 2637 images belonging to 2 classes.\n",
            "Found 660 images belonging to 2 classes.\n"
          ]
        }
      ]
    },
    {
      "cell_type": "code",
      "metadata": {
        "colab": {
          "base_uri": "https://localhost:8080/"
        },
        "id": "embRpcF98vNz",
        "outputId": "28b806ae-0521-49fd-bfab-97c0b3fae66c"
      },
      "source": [
        "from keras.callbacks import ModelCheckpoint\n",
        "\n",
        "checkpoint = ModelCheckpoint(filepath='/content/drive/MyDrive/Colab Notebooks/output/Image classification using Transfer Learning[ Vgg 16 ]', \n",
        "                               verbose=2, save_best_only=True)\n",
        "callbacks = [checkpoint]\n",
        "batch_size=32\n",
        "model=model.fit_generator(\n",
        "  train_set,\n",
        "  validation_data=test_set,\n",
        "  epochs=10,\n",
        "  steps_per_epoch=len(train_set)//batch_size,\n",
        "  validation_steps=len(test_set)//batch_size,\n",
        "    callbacks=callbacks ,verbose=2)\n",
        "\n"
      ],
      "execution_count": 49,
      "outputs": [
        {
          "output_type": "stream",
          "name": "stderr",
          "text": [
            "/usr/local/lib/python3.7/dist-packages/ipykernel_launcher.py:13: UserWarning: `Model.fit_generator` is deprecated and will be removed in a future version. Please use `Model.fit`, which supports generators.\n",
            "  del sys.path[0]\n"
          ]
        },
        {
          "output_type": "stream",
          "name": "stdout",
          "text": [
            "Epoch 1/10\n",
            "WARNING:tensorflow:Can save best model only with val_loss available, skipping.\n",
            "2/2 - 8s - loss: 345.7177 - accuracy: 0.5156 - 8s/epoch - 4s/step\n",
            "Epoch 2/10\n",
            "WARNING:tensorflow:Can save best model only with val_loss available, skipping.\n",
            "2/2 - 4s - loss: 331.5499 - accuracy: 0.6719 - 4s/epoch - 2s/step\n",
            "Epoch 3/10\n",
            "WARNING:tensorflow:Can save best model only with val_loss available, skipping.\n",
            "2/2 - 5s - loss: 299.9785 - accuracy: 0.6406 - 5s/epoch - 3s/step\n",
            "Epoch 4/10\n",
            "WARNING:tensorflow:Can save best model only with val_loss available, skipping.\n",
            "2/2 - 4s - loss: 308.1092 - accuracy: 0.7656 - 4s/epoch - 2s/step\n",
            "Epoch 5/10\n",
            "WARNING:tensorflow:Can save best model only with val_loss available, skipping.\n",
            "2/2 - 4s - loss: 122.3581 - accuracy: 0.8750 - 4s/epoch - 2s/step\n",
            "Epoch 6/10\n",
            "WARNING:tensorflow:Can save best model only with val_loss available, skipping.\n",
            "2/2 - 4s - loss: 156.3924 - accuracy: 0.8750 - 4s/epoch - 2s/step\n",
            "Epoch 7/10\n",
            "WARNING:tensorflow:Can save best model only with val_loss available, skipping.\n",
            "2/2 - 5s - loss: 326.0206 - accuracy: 0.8125 - 5s/epoch - 2s/step\n",
            "Epoch 8/10\n",
            "WARNING:tensorflow:Can save best model only with val_loss available, skipping.\n",
            "2/2 - 3s - loss: 169.6505 - accuracy: 0.8281 - 3s/epoch - 1s/step\n",
            "Epoch 9/10\n",
            "WARNING:tensorflow:Can save best model only with val_loss available, skipping.\n",
            "2/2 - 4s - loss: 70.1985 - accuracy: 0.8906 - 4s/epoch - 2s/step\n",
            "Epoch 10/10\n",
            "WARNING:tensorflow:Can save best model only with val_loss available, skipping.\n",
            "2/2 - 4s - loss: 140.9833 - accuracy: 0.8750 - 4s/epoch - 2s/step\n"
          ]
        }
      ]
    },
    {
      "cell_type": "code",
      "metadata": {
        "id": "5RVE5Sjh8vQz"
      },
      "source": [
        ""
      ],
      "execution_count": 49,
      "outputs": []
    },
    {
      "cell_type": "code",
      "metadata": {
        "id": "YzF4z6Uo8vTT"
      },
      "source": [
        ""
      ],
      "execution_count": 49,
      "outputs": []
    }
  ]
}